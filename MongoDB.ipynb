{
 "cells": [
  {
   "cell_type": "markdown",
   "id": "f59476c1-6628-4f24-aa75-c5a55209e671",
   "metadata": {},
   "source": [
    "# MongoDB Assignment"
   ]
  },
  {
   "cell_type": "markdown",
   "id": "929ba65d-530d-4b49-ae89-767135eb5c2c",
   "metadata": {},
   "source": [
    "Question 1:"
   ]
  },
  {
   "cell_type": "markdown",
   "id": "a66df404-1ca0-4fb9-9dba-de1019ecc6de",
   "metadata": {},
   "source": [
    "Non-Relational Databases:\n",
    "\n",
    "Concept: Unlike relational databases that store data in fixed tables with rows and columns, non-relational databases (NoSQL) offer more flexible ways to store information. Data can be structured in various formats like documents, key-value pairs, graphs, or wide-column stores.\n",
    "Focus: NoSQL databases emphasize scalability, performance, and handling large amounts of unstructured or rapidly changing data.\n",
    "MongoDB:\n",
    "\n",
    "Type: MongoDB is a popular NoSQL database that uses a document-oriented data model.\n",
    "Structure: Data is stored in flexible JSON-like documents, allowing you to define various fields within each document and include nested structures for complex data.\n",
    "Features: MongoDB offers features like dynamic schemas (schema evolves over time), horizontal scaling (adding servers for increased capacity), and rich querying capabilities for document data.\n",
    "\n",
    "Use Cases for MongoDB over SQL Databases:\n",
    "\n",
    "Large, Unstructured Data: When dealing with massive datasets that don't have a predefined structure (e.g., sensor data, social media posts), MongoDB's flexibility is advantageous.\n",
    "Rapidly Changing Data: If your data model is likely to evolve frequently, MongoDB's schema-less approach adapts more easily than the rigid structure of relational databases.\n",
    "Performance and Scalability: For high-performance applications requiring real-time data processing or horizontal scaling for massive datasets, MongoDB's architecture can be more efficient.\n",
    "Focus on Documents: If your data naturally aligns with a document-oriented model, where related information is grouped together, MongoDB's document structure can be a good fit."
   ]
  },
  {
   "cell_type": "markdown",
   "id": "c2a5b912-8fe4-4227-bf3c-a0eee8cc09e3",
   "metadata": {},
   "source": [
    "Question 2:\n",
    "\n",
    "Document-Oriented Model:\n",
    "\n",
    "Stores data in flexible JSON-like documents, allowing for complex data structures with nested elements.\n",
    "Each document represents a record and can have various fields with different data types.\n",
    "This structure is well-suited for representing real-world entities and their relationships.\n",
    "Schema-Less (or Schema-Flexible):\n",
    "\n",
    "Documents don't require a predefined schema (rigid structure).\n",
    "Fields can be added or removed over time without altering the entire database structure.\n",
    "This flexibility is ideal for evolving data models and accommodating unforeseen data needs.\n",
    "Horizontal Scalability:\n",
    "\n",
    "MongoDB scales horizontally by adding more servers (shards) to distribute data and workload.\n",
    "This approach allows you to handle increasing data volumes and user requests efficiently.\n",
    "Indexing:\n",
    "\n",
    "Indexes specific fields within documents to optimize query performance.\n",
    "Similar to relational databases, indexes speed up data retrieval by allowing MongoDB to quickly locate relevant documents based on the indexed fields.\n",
    "Aggregation Framework:\n",
    "\n",
    "Provides a powerful framework for performing complex data aggregations, grouping, and transformations.\n",
    "You can use aggregation pipelines to process and analyze large datasets efficiently without writing complex code.\n",
    "Replication:\n",
    "\n",
    "Enables data replication across multiple servers for high availability and disaster recovery.\n",
    "Replication ensures data redundancy and minimizes downtime in case of server failure.\n",
    "Rich Querying Capabilities:\n",
    "\n",
    "Supports various query operators and expressions to search, filter, and manipulate documents.\n",
    "You can use operators like $and, $or, and regular expressions for complex queries.\n",
    "Geospatial Indexing:\n",
    "\n",
    "Offers specific indexing for geospatial data, allowing efficient querying and retrieval based on location.\n",
    "This feature is useful for applications that deal with geographic information (e.g., maps, location-based services).\n",
    "Ad-Hoc Queries:\n",
    "\n",
    "Because of the flexible schema, MongoDB allows for ad-hoc queries where the structure of the data being queried might not be predetermined.\n",
    "This can be helpful for exploratory data analysis or unforeseen data retrieval needs.\n",
    "Authentication and Authorization:\n",
    "\n",
    "Provides built-in mechanisms for user authentication and authorization to control access to data within the database.\n",
    "You can define roles and permissions for different users or applications."
   ]
  },
  {
   "cell_type": "markdown",
   "id": "69d8c1a2-6193-43ce-9e20-01d8ca0faa31",
   "metadata": {},
   "source": [
    "Question 3:\n",
    "\n"
   ]
  },
  {
   "cell_type": "code",
   "execution_count": 1,
   "id": "b306924b-6178-4b56-bd98-6b4462f1d116",
   "metadata": {},
   "outputs": [
    {
     "ename": "ModuleNotFoundError",
     "evalue": "No module named 'pymongo'",
     "output_type": "error",
     "traceback": [
      "\u001b[0;31m---------------------------------------------------------------------------\u001b[0m",
      "\u001b[0;31mModuleNotFoundError\u001b[0m                       Traceback (most recent call last)",
      "Cell \u001b[0;32mIn[1], line 1\u001b[0m\n\u001b[0;32m----> 1\u001b[0m \u001b[38;5;28;01mimport\u001b[39;00m \u001b[38;5;21;01mpymongo\u001b[39;00m\n\u001b[1;32m      3\u001b[0m \u001b[38;5;66;03m# Replace with your connection details\u001b[39;00m\n\u001b[1;32m      4\u001b[0m client \u001b[38;5;241m=\u001b[39m pymongo\u001b[38;5;241m.\u001b[39mMongoClient(\u001b[38;5;124m\"\u001b[39m\u001b[38;5;124mmongodb://localhost:27017/\u001b[39m\u001b[38;5;124m\"\u001b[39m)  \u001b[38;5;66;03m# Default port for MongoDB\u001b[39;00m\n",
      "\u001b[0;31mModuleNotFoundError\u001b[0m: No module named 'pymongo'"
     ]
    }
   ],
   "source": [
    "import pymongo\n",
    "\n",
    "# Replace with your connection details\n",
    "client = pymongo.MongoClient(\"mongodb://localhost:27017/\")  # Default port for MongoDB\n",
    "\n",
    "# Create a database (if it doesn't exist yet)\n",
    "mydatabase = client[\"mydatabase\"]  # Database name\n",
    "\n",
    "# Create a collection (if it doesn't exist yet)\n",
    "mycollection = mydatabase[\"mycollection\"]  # Collection name\n",
    "\n",
    "# Sample document to insert\n",
    "data = {\n",
    "    \"name\": \"John Doe\",\n",
    "    \"age\": 30,\n",
    "    \"city\": \"New York\"\n",
    "}\n",
    "\n",
    "# Insert the document into the collection\n",
    "mycollection.insert_one(data)\n",
    "\n",
    "# Print confirmation message\n",
    "print(\"Database and collection created successfully!\")\n"
   ]
  },
  {
   "cell_type": "markdown",
   "id": "14fb38b1-99a6-48f7-b246-9e5cb911c959",
   "metadata": {},
   "source": [
    "Question 4:"
   ]
  },
  {
   "cell_type": "code",
   "execution_count": 2,
   "id": "0554bcbc-37db-45a5-b2d7-d3369cd2f396",
   "metadata": {},
   "outputs": [
    {
     "ename": "ModuleNotFoundError",
     "evalue": "No module named 'pymongo'",
     "output_type": "error",
     "traceback": [
      "\u001b[0;31m---------------------------------------------------------------------------\u001b[0m",
      "\u001b[0;31mModuleNotFoundError\u001b[0m                       Traceback (most recent call last)",
      "Cell \u001b[0;32mIn[2], line 1\u001b[0m\n\u001b[0;32m----> 1\u001b[0m \u001b[38;5;28;01mimport\u001b[39;00m \u001b[38;5;21;01mpymongo\u001b[39;00m\n\u001b[1;32m      3\u001b[0m \u001b[38;5;66;03m# Replace with your connection details\u001b[39;00m\n\u001b[1;32m      4\u001b[0m client \u001b[38;5;241m=\u001b[39m pymongo\u001b[38;5;241m.\u001b[39mMongoClient(\u001b[38;5;124m\"\u001b[39m\u001b[38;5;124mmongodb://localhost:27017/\u001b[39m\u001b[38;5;124m\"\u001b[39m)  \u001b[38;5;66;03m# Default port for MongoDB\u001b[39;00m\n",
      "\u001b[0;31mModuleNotFoundError\u001b[0m: No module named 'pymongo'"
     ]
    }
   ],
   "source": [
    "import pymongo\n",
    "\n",
    "# Replace with your connection details\n",
    "client = pymongo.MongoClient(\"mongodb://localhost:27017/\")  # Default port for MongoDB\n",
    "\n",
    "mydatabase = client[\"mydatabase\"]\n",
    "mycollection = mydatabase[\"mycollection\"]\n",
    "\n",
    "# Single record to insert\n",
    "data1 = {\n",
    "    \"name\": \"Jane Doe\",\n",
    "    \"age\": 25,\n",
    "    \"city\": \"Los Angeles\"\n",
    "}\n",
    "\n",
    "# Insert single record\n",
    "mycollection.insert_one(data1)\n",
    "\n",
    "# Multiple records to insert (as a list)\n",
    "data2 = [\n",
    "    {\"name\": \"Alice Smith\", \"age\": 35, \"city\": \"Chicago\"},\n",
    "    {\"name\": \"Bob Brown\", \"age\": 40, \"city\": \"Seattle\"}\n",
    "]\n",
    "\n",
    "# Insert many records\n",
    "mycollection.insert_many(data2)\n",
    "\n",
    "# Find all documents (may print multiple documents if you inserted many)\n",
    "print(\"Finding all documents:\")\n",
    "for document in mycollection.find():\n",
    "    print(document)\n",
    "\n",
    "# Find one document (prints the first document by default)\n",
    "print(\"\\nFinding one document:\")\n",
    "document = mycollection.find_one()\n",
    "print(document)\n",
    "\n",
    "print(\"\\nDatabase and collection operations successful!\")\n"
   ]
  },
  {
   "cell_type": "markdown",
   "id": "f6d28cef-cf71-49ac-8c34-a19c240ff426",
   "metadata": {},
   "source": [
    "Question 5:"
   ]
  },
  {
   "cell_type": "markdown",
   "id": "d1834c89-8c5c-448a-ae33-59ddb229316a",
   "metadata": {},
   "source": [
    "Query Filters:\n",
    "\n",
    "You can use a query document as an argument to find to specify filtering criteria for the documents you want to retrieve.\n",
    "The query document uses field names and operators to match specific data within the documents.\n",
    "Common operators include:\n",
    "$eq: Matches documents where a field equals a specific value.\n",
    "$gt, $gte, $lt, $lte: Match documents based on greater than, greater than or equal to, less than, and less than or equal to comparisons, respectively.\n",
    "$in: Matches documents where a field's value is present within a specified list.\n",
    "$regex: Performs regular expression matching on a field's value.\n",
    "Sorting:\n",
    "\n",
    "You can optionally specify a sort document as the second argument to find to sort the results based on one or more fields.\n",
    "Use the field name as the key and 1 (ascending) or -1 (descending) as the value to define the sort order for each field.\n",
    "Projection:\n",
    "\n",
    "The find method can also include a projection document as the third argument to specify which fields you want to include or exclude from the retrieved documents.\n",
    "Use field names with a value of 1 to include and 0 to exclude specific fields."
   ]
  },
  {
   "cell_type": "markdown",
   "id": "78e37288-c430-4b9d-af05-bd4cf3146241",
   "metadata": {},
   "source": [
    "Question 6:"
   ]
  },
  {
   "cell_type": "markdown",
   "id": "2f8eb0ed-d343-48c4-b5eb-3a348c2a0559",
   "metadata": {},
   "source": [
    "The sort method in MongoDB allows you to sort the results retrieved from a query. Here's a breakdown of its functionality and an example to demonstrate sorting:\n",
    "\n",
    "Functionality:\n",
    "\n",
    "The sort method is typically used in conjunction with the find method to sort the documents returned by the query.\n",
    "You provide a sort document as an argument to sort, specifying which fields to sort by and the sort order.\n",
    "The sort document uses field names as keys and either 1 (ascending) or -1 (descending) as the value to define the sort order for each field.\n",
    "Sorting Criteria:\n",
    "\n",
    "You can sort by multiple fields at once. The documents are sorted based on the first sort key, and then within those results, they are further sorted based on the second sort key, and so on.\n",
    "Sorting happens in a natural order for the data type of the field being sorted (e.g., alphabetical for strings, numerical for numbers)."
   ]
  },
  {
   "cell_type": "code",
   "execution_count": 3,
   "id": "5d589eba-5cc6-4115-b848-581f20496957",
   "metadata": {},
   "outputs": [
    {
     "ename": "ModuleNotFoundError",
     "evalue": "No module named 'pymongo'",
     "output_type": "error",
     "traceback": [
      "\u001b[0;31m---------------------------------------------------------------------------\u001b[0m",
      "\u001b[0;31mModuleNotFoundError\u001b[0m                       Traceback (most recent call last)",
      "Cell \u001b[0;32mIn[3], line 1\u001b[0m\n\u001b[0;32m----> 1\u001b[0m \u001b[38;5;28;01mimport\u001b[39;00m \u001b[38;5;21;01mpymongo\u001b[39;00m\n\u001b[1;32m      3\u001b[0m \u001b[38;5;66;03m# Replace with your connection details\u001b[39;00m\n\u001b[1;32m      4\u001b[0m client \u001b[38;5;241m=\u001b[39m pymongo\u001b[38;5;241m.\u001b[39mMongoClient(\u001b[38;5;124m\"\u001b[39m\u001b[38;5;124mmongodb://localhost:27017/\u001b[39m\u001b[38;5;124m\"\u001b[39m)  \u001b[38;5;66;03m# Default port for MongoDB\u001b[39;00m\n",
      "\u001b[0;31mModuleNotFoundError\u001b[0m: No module named 'pymongo'"
     ]
    }
   ],
   "source": [
    "import pymongo\n",
    "\n",
    "# Replace with your connection details\n",
    "client = pymongo.MongoClient(\"mongodb://localhost:27017/\")  # Default port for MongoDB\n",
    "\n",
    "mydatabase = client[\"mydatabase\"]\n",
    "mycollection = mydatabase[\"mycollection\"]\n",
    "\n",
    "# Find all documents, sorted by age in ascending order and then by name in descending order\n",
    "sort_criteria = {\"age\": 1, \"name\": -1}  # age ascending, name descending\n",
    "print(\"Finding all documents sorted by age (ascending) and name (descending):\")\n",
    "for document in mycollection.find({}, sort_criteria):\n",
    "    print(document)\n",
    "\n",
    "print(\"\\nDatabase sorting successful!\")\n"
   ]
  },
  {
   "cell_type": "code",
   "execution_count": null,
   "id": "8894c7e3-0f40-4b99-a759-d1d602182d17",
   "metadata": {},
   "outputs": [],
   "source": []
  }
 ],
 "metadata": {
  "kernelspec": {
   "display_name": "Python 3 (ipykernel)",
   "language": "python",
   "name": "python3"
  },
  "language_info": {
   "codemirror_mode": {
    "name": "ipython",
    "version": 3
   },
   "file_extension": ".py",
   "mimetype": "text/x-python",
   "name": "python",
   "nbconvert_exporter": "python",
   "pygments_lexer": "ipython3",
   "version": "3.10.8"
  }
 },
 "nbformat": 4,
 "nbformat_minor": 5
}
